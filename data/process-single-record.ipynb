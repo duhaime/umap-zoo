{
 "cells": [
  {
   "cell_type": "code",
   "execution_count": 7,
   "metadata": {},
   "outputs": [
    {
     "name": "stdout",
     "output_type": "stream",
     "text": [
      " * adding vertices\n"
     ]
    }
   ],
   "source": [
    "from get_json import get_model_json\n",
    "import vertices, umap, json, os\n",
    "import numpy as np\n",
    "\n",
    "min_dist = 0.0001\n",
    "n_neighbors = 50\n",
    "n_vertices = 50000\n",
    "\n",
    "filename = 'trump-{}'.format(n_vertices)\n",
    "v = vertices.ObjParser('../data/obj/trump.obj').get_n_vertices(n_vertices)\n",
    "np.save(os.path.join('out', filename + '-3d'), v)\n",
    "# project to 2D\n",
    "o = umap.UMAP(min_dist=min_dist, n_neighbors=n_neighbors).fit_transform(v)\n",
    "np.save(os.path.join('out', filename + '-2d'), o)\n",
    "# save the model json for visualizing\n",
    "get_model_json('trump')"
   ]
  },
  {
   "cell_type": "code",
   "execution_count": 8,
   "metadata": {},
   "outputs": [
    {
     "data": {
      "text/plain": [
       "(50000, 3)"
      ]
     },
     "execution_count": 8,
     "metadata": {},
     "output_type": "execute_result"
    }
   ],
   "source": [
    "v.shape"
   ]
  }
 ],
 "metadata": {
  "kernelspec": {
   "display_name": "Python 3",
   "language": "python",
   "name": "python3"
  },
  "language_info": {
   "codemirror_mode": {
    "name": "ipython",
    "version": 3
   },
   "file_extension": ".py",
   "mimetype": "text/x-python",
   "name": "python",
   "nbconvert_exporter": "python",
   "pygments_lexer": "ipython3",
   "version": "3.5.3"
  }
 },
 "nbformat": 4,
 "nbformat_minor": 2
}
